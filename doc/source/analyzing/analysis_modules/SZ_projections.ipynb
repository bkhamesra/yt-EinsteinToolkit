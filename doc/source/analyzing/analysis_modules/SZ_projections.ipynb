{
 "cells": [
  {
   "cell_type": "markdown",
   "metadata": {},
   "source": [
    "The change in the CMB intensity due to Compton scattering of CMB\n",
    "photons off of thermal electrons in galaxy clusters, otherwise known as the\n",
    "Sunyaev-Zeldovich (S-Z) effect, can to a reasonable approximation be represented by a\n",
    "projection of the pressure field of a cluster. However, the *full* S-Z signal is a combination of thermal and kinetic\n",
    "contributions, and for large frequencies and high temperatures\n",
    "relativistic effects are important. For computing the full S-Z signal\n",
    "incorporating all of these effects, there is a library:\n",
    "SZpack ([Chluba et al 2012](http://adsabs.harvard.edu/abs/2012MNRAS.426..510C)). \n",
    "\n",
    "The `sunyaev_zeldovich` analysis module in yt makes it possible\n",
    "to make projections of the full S-Z signal given the properties of the\n",
    "thermal gas in the simulation using SZpack. SZpack has several different options for computing the S-Z signal, from full\n",
    "integrations to very good approximations.  Since a full or even a\n",
    "partial integration of the signal for each cell in the projection\n",
    "would be prohibitively expensive, we use the method outlined in\n",
    "[Chluba et al 2013](http://adsabs.harvard.edu/abs/2013MNRAS.430.3054C) to expand the\n",
    "total S-Z signal in terms of moments of the projected optical depth $\\tau$, projected electron temperature $T_e$, and\n",
    "velocities $\\beta_{c,\\parallel}$ and $\\beta_{c,\\perp}$ (their equation 18):"
   ]
  },
  {
   "cell_type": "markdown",
   "metadata": {},
   "source": [
    "$$S(\\tau, T_{e},\\beta_{c,\\parallel},\\beta_{\\rm c,\\perp}) \\approx S_{\\rm iso}^{(0)} + S_{\\rm iso}^{(2)}\\omega^{(1)} + C_{\\rm iso}^{(1)}\\sigma^{(1)} + D_{\\rm iso}^{(2)}\\kappa^{(1)} + E_{\\rm iso}^{(2)}\\beta_{\\rm c,\\perp,SZ}^2 +~...$$\n"
   ]
  },
  {
   "cell_type": "markdown",
   "metadata": {},
   "source": [
    "yt makes projections of the various moments needed for the\n",
    "calculation, and then the resulting projected fields are used to\n",
    "compute the S-Z signal. In our implementation, the expansion is carried out to first-order\n",
    "terms in $T_e$ and zeroth-order terms in $\\beta_{c,\\parallel}$ by default, but terms up to second-order in can be optionally\n",
    "included. "
   ]
  },
  {
   "cell_type": "markdown",
   "metadata": {},
   "source": [
    "## Installing SZpack"
   ]
  },
  {
   "cell_type": "markdown",
   "metadata": {},
   "source": [
    "SZpack can be downloaded [here](http://www.cita.utoronto.ca/~jchluba/Science_Jens/SZpack/SZpack.html). Make\n",
    "sure you install a version later than v1.1.1. For computing the S-Z\n",
    "integrals, SZpack requires the [GNU Scientific Library](http://www.gnu.org/software/gsl/). For compiling\n",
    "the Python module, you need to have a recent version of [swig](http://www.swig.org>) installed. After running `make` in the top-level SZpack directory, you'll need to run it in the `python` subdirectory, which is the\n",
    "location of the `SZpack` module. You may have to include this location in the `PYTHONPATH` environment variable.\n"
   ]
  },
  {
   "cell_type": "markdown",
   "metadata": {},
   "source": [
    "<font color='red'>**NOTE**</font>: Currently, use of the SZpack library to create S-Z projections in yt is limited to Python 2.x."
   ]
  },
  {
   "cell_type": "markdown",
   "metadata": {},
   "source": [
    "## Creating S-Z Projections"
   ]
  },
  {
   "cell_type": "markdown",
   "metadata": {},
   "source": [
    "Once you have SZpack installed, making S-Z projections from yt\n",
    "datasets is fairly straightforward:"
   ]
  },
  {
   "cell_type": "code",
   "execution_count": null,
   "metadata": {
    "collapsed": false
   },
   "outputs": [],
   "source": [
    "%matplotlib inline\n",
    "import yt\n",
    "from yt.analysis_modules.sunyaev_zeldovich.api import SZProjection\n",
    "\n",
    "ds = yt.load(\"enzo_tiny_cosmology/DD0046/DD0046\")\n",
    "\n",
    "freqs = [90.,180.,240.]\n",
    "szprj = SZProjection(ds, freqs)"
   ]
  },
  {
   "cell_type": "markdown",
   "metadata": {},
   "source": [
    "`freqs` is a list or array of frequencies in GHz at which the signal\n",
    "is to be computed. The `SZProjection` constructor also accepts the\n",
    "optional keywords, `mue` (mean molecular weight for computing the\n",
    "electron number density, 1.143 is the default) and `high_order` (set\n",
    "to True to compute terms in the S-Z signal expansion up to\n",
    "second-order in $T_{e,SZ}$ and $\\beta$). "
   ]
  },
  {
   "cell_type": "markdown",
   "metadata": {},
   "source": [
    "Once you have created the `SZProjection` object, you can use it to\n",
    "make on-axis and off-axis projections:"
   ]
  },
  {
   "cell_type": "code",
   "execution_count": null,
   "metadata": {
    "collapsed": false
   },
   "outputs": [],
   "source": [
    "# An on-axis projection along the z-axis with width 10 Mpc, centered on the gas density maximum\n",
    "szprj.on_axis(\"z\", center=\"max\", width=(10.0, \"Mpc\"), nx=400)"
   ]
  },
  {
   "cell_type": "markdown",
   "metadata": {},
   "source": [
    "To make an off-axis projection, `szprj.off_axis` is called in the same way, except that the first argument is a three-component normal vector. \n",
    "\n",
    "Currently, only one projection can be in memory at once. These methods\n",
    "create images of the projected S-Z signal at each requested frequency,\n",
    "which can be accessed dict-like from the projection object (e.g.,\n",
    "`szprj[\"90_GHz\"]`). Projections of other quantities may also be\n",
    "accessed; to see what fields are available call `szprj.keys()`. The methods also accept standard yt\n",
    "keywords for projections such as `center`, `width`, and `source`. The image buffer size can be controlled by setting `nx`.  \n"
   ]
  },
  {
   "cell_type": "markdown",
   "metadata": {},
   "source": [
    "## Writing out the S-Z Projections"
   ]
  },
  {
   "cell_type": "markdown",
   "metadata": {},
   "source": [
    "You may want to output the S-Z images to figures suitable for\n",
    "inclusion in a paper, or save them to disk for later use. There are a\n",
    "few methods included for this purpose. For PNG figures with a colorbar\n",
    "and axes, use `write_png`:"
   ]
  },
  {
   "cell_type": "code",
   "execution_count": null,
   "metadata": {
    "collapsed": false
   },
   "outputs": [],
   "source": [
    "szprj.write_png(\"SZ_example\")"
   ]
  },
  {
   "cell_type": "markdown",
   "metadata": {},
   "source": [
    "For simple output of the image data to disk, call `write_hdf5`:"
   ]
  },
  {
   "cell_type": "code",
   "execution_count": null,
   "metadata": {
    "collapsed": false
   },
   "outputs": [],
   "source": [
    "szprj.write_hdf5(\"SZ_example.h5\")"
   ]
  },
  {
   "cell_type": "markdown",
   "metadata": {},
   "source": [
    "Finally, for output to FITS files which can be opened or analyzed\n",
    "using other programs (such as ds9), call `export_fits`."
   ]
  },
  {
   "cell_type": "code",
   "execution_count": null,
   "metadata": {
    "collapsed": false
   },
   "outputs": [],
   "source": [
    "szprj.write_fits(\"SZ_example.fits\", clobber=True)"
   ]
  },
  {
   "cell_type": "markdown",
   "metadata": {},
   "source": [
    "which would write all of the projections to a single FITS file,\n",
    "including coordinate information in kpc. The optional keyword\n",
    "`clobber` allows a previous file to be overwritten. \n"
   ]
  }
 ],
 "metadata": {
  "kernelspec": {
   "display_name": "Python 3",
   "language": "python",
   "name": "python3"
  },
  "language_info": {
   "codemirror_mode": {
    "name": "ipython",
    "version": 3
   },
   "file_extension": ".py",
   "mimetype": "text/x-python",
   "name": "python",
   "nbconvert_exporter": "python",
   "pygments_lexer": "ipython3",
   "version": "3.5.1"
  }
 },
 "nbformat": 4,
 "nbformat_minor": 0
}
