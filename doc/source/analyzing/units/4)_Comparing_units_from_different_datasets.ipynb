{
 "cells": [
  {
   "cell_type": "markdown",
   "metadata": {},
   "source": [
    "Units that refer to the internal simulation coordinate system will have different CGS conversion factors in different datasets.  Depending on how a unit system is implemented, this could add an element of uncertainty when we compare dimensional array instances produced by different unit systems.  Fortunately, this is not a problem for `YTArray` since all `YTArray` unit systems are defined in terms of physical CGS units.\n",
    "\n",
    "As an example, let's load up two enzo datasets from different redshifts in the same cosmology simulation."
   ]
  },
  {
   "cell_type": "code",
   "execution_count": null,
   "metadata": {},
   "outputs": [],
   "source": [
    "# A high redshift output from z ~ 8\n",
    "import yt\n",
    "\n",
    "ds1 = yt.load('Enzo_64/DD0002/data0002')\n",
    "print (\"z = %s\" % ds1.current_redshift)\n",
    "print (\"Internal length units = %s\" % ds1.length_unit)\n",
    "print (\"Internal length units in cgs = %s\" % ds1.length_unit.in_cgs())"
   ]
  },
  {
   "cell_type": "code",
   "execution_count": null,
   "metadata": {},
   "outputs": [],
   "source": [
    "# A low redshift output from z ~ 0\n",
    "ds2 = yt.load('Enzo_64/DD0043/data0043')\n",
    "print (\"z = %s\" % ds2.current_redshift)\n",
    "print (\"Internal length units = %s\" % ds2.length_unit)\n",
    "print (\"Internal length units in cgs = %s\" % ds2.length_unit.in_cgs())"
   ]
  },
  {
   "cell_type": "markdown",
   "metadata": {},
   "source": [
    "Given that these are from the same simulation in comoving units, the CGS length units are different by a factor of $(1+z_1)/(1+z_2)$:"
   ]
  },
  {
   "cell_type": "code",
   "execution_count": null,
   "metadata": {},
   "outputs": [],
   "source": [
    "print (ds2.length_unit.in_cgs()/ds1.length_unit.in_cgs() == (1+ds1.current_redshift)/(1+ds2.current_redshift))"
   ]
  },
  {
   "cell_type": "markdown",
   "metadata": {},
   "source": [
    "It's not necessary to convert to CGS units either.  yt will automatically account for the fact that a comoving megapaersec in the first output is physically different compared to a comoving megaparsec in the second output."
   ]
  },
  {
   "cell_type": "code",
   "execution_count": null,
   "metadata": {},
   "outputs": [],
   "source": [
    "print (ds2.length_unit/ds1.length_unit)"
   ]
  },
  {
   "cell_type": "markdown",
   "metadata": {},
   "source": [
    "Time series analysis is also straightforward.  Since dimensional arrays and quantities carry around the conversion factors to CGS with them, we can safely pickle them, share them with other processors, or combine them without worrying about differences in unit definitions.\n",
    "\n",
    "The following snippet, which iterates over a time series and saves the `length_unit` quantity to a storage dictionary. This should work correctly on one core or in a script run in parallel."
   ]
  },
  {
   "cell_type": "code",
   "execution_count": null,
   "metadata": {},
   "outputs": [],
   "source": [
    "import yt\n",
    "yt.enable_parallelism()\n",
    "\n",
    "ts = yt.load(\"Enzo_64/DD????/data????\")\n",
    "\n",
    "storage = {}\n",
    "\n",
    "for sto, ds in ts.piter(storage=storage):\n",
    "    sto.result_id = float(ds.current_time.in_units('Gyr'))\n",
    "    sto.result = ds.length_unit\n",
    "\n",
    "if yt.is_root():\n",
    "    for t in sorted(storage.keys()):\n",
    "        print (t, storage[t].in_units('Mpc'))"
   ]
  }
 ],
 "metadata": {
  "kernelspec": {
   "display_name": "Python 3",
   "language": "python",
   "name": "python3"
  },
  "language_info": {
   "codemirror_mode": {
    "name": "ipython",
    "version": 3.0
   },
   "file_extension": ".py",
   "mimetype": "text/x-python",
   "name": "python",
   "nbconvert_exporter": "python",
   "pygments_lexer": "ipython3",
   "version": "3.5.1"
  }
 },
 "nbformat": 4,
 "nbformat_minor": 0
}