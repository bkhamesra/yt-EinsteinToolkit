{
 "cells": [
  {
   "cell_type": "markdown",
   "metadata": {},
   "source": [
    "It's now easy to adjust the units of a field you are plotting.\n",
    "\n",
    "> Note: the following examples use `SlicePlot`, but the same thing should work for `ProjectionPlot`, `OffAxisSlicePlot`, and `OffAxisProjectionPlot`."
   ]
  },
  {
   "cell_type": "markdown",
   "metadata": {},
   "source": [
    "First, let's create a new `SlicePlot`."
   ]
  },
  {
   "cell_type": "code",
   "execution_count": null,
   "metadata": {
    "collapsed": false
   },
   "outputs": [],
   "source": [
    "import yt\n",
    "ds = yt.load('IsolatedGalaxy/galaxy0030/galaxy0030')\n",
    "slc = yt.SlicePlot(ds, 2, 'density', center=[0.5, 0.5, 0.5], width=(15, 'kpc'))\n",
    "slc.set_figure_size(6)"
   ]
  },
  {
   "cell_type": "markdown",
   "metadata": {},
   "source": [
    "The units used to scale the colorbar can be adjusted by calling the `set_unit` function that is attached to the plot object.  This example creates a plot of density in code units:"
   ]
  },
  {
   "cell_type": "code",
   "execution_count": null,
   "metadata": {
    "collapsed": false
   },
   "outputs": [],
   "source": [
    "slc.set_unit('density', 'code_mass/code_length**3')"
   ]
  },
  {
   "cell_type": "markdown",
   "metadata": {},
   "source": [
    "This example creates a plot of gas density in solar masses per cubic parsec:"
   ]
  },
  {
   "cell_type": "code",
   "execution_count": null,
   "metadata": {
    "collapsed": false
   },
   "outputs": [],
   "source": [
    "slc.set_unit('density', 'Msun/pc**3')"
   ]
  },
  {
   "cell_type": "markdown",
   "metadata": {},
   "source": [
    "The `set_unit` function will accept any unit string that is dimensionally equivalent to the plotted field.  If it is supplied a unit that is not dimensionally equivalent, it will raise an error:"
   ]
  },
  {
   "cell_type": "code",
   "execution_count": null,
   "metadata": {
    "collapsed": false
   },
   "outputs": [],
   "source": [
    "from yt.utilities.exceptions import YTUnitConversionError\n",
    "\n",
    "try:\n",
    "    slc.set_unit('density', 'Msun')\n",
    "except YTUnitConversionError as e:\n",
    "    print (e)"
   ]
  },
  {
   "cell_type": "markdown",
   "metadata": {},
   "source": [
    "Similarly, set_unit is defined for `ProfilePlot` and `PhasePlot` instances as well.\n",
    "\n",
    "To illustrate this point, let's first create a new `ProfilePlot`:"
   ]
  },
  {
   "cell_type": "code",
   "execution_count": null,
   "metadata": {
    "collapsed": false
   },
   "outputs": [],
   "source": [
    "dd = ds.all_data()\n",
    "plot = yt.ProfilePlot(dd, 'density', 'temperature', weight_field='cell_mass')\n",
    "plot.show()"
   ]
  },
  {
   "cell_type": "markdown",
   "metadata": {},
   "source": [
    "And adjust the unit of the y-axis:"
   ]
  },
  {
   "cell_type": "code",
   "execution_count": null,
   "metadata": {
    "collapsed": false
   },
   "outputs": [],
   "source": [
    "plot.set_unit('density', 'Msun/pc**3')"
   ]
  },
  {
   "cell_type": "markdown",
   "metadata": {},
   "source": [
    "Similarly for PhasePlot:"
   ]
  },
  {
   "cell_type": "code",
   "execution_count": null,
   "metadata": {
    "collapsed": false
   },
   "outputs": [],
   "source": [
    "plot = yt.PhasePlot(dd, 'density', 'temperature', 'cell_mass')\n",
    "plot.set_figure_size(6)"
   ]
  },
  {
   "cell_type": "code",
   "execution_count": null,
   "metadata": {
    "collapsed": false
   },
   "outputs": [],
   "source": [
    "plot.set_unit('cell_mass', 'Msun')\n",
    "plot.set_unit('density', 'Msun/pc**3')"
   ]
  }
 ],
 "metadata": {
  "kernelspec": {
   "display_name": "Python 3",
   "language": "python",
   "name": "python3"
  },
  "language_info": {
   "codemirror_mode": {
    "name": "ipython",
    "version": 3
   },
   "file_extension": ".py",
   "mimetype": "text/x-python",
   "name": "python",
   "nbconvert_exporter": "python",
   "pygments_lexer": "ipython3",
   "version": "3.5.1"
  }
 },
 "nbformat": 4,
 "nbformat_minor": 0
}
