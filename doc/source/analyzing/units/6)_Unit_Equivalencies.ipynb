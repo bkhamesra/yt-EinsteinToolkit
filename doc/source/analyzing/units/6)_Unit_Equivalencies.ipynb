{
 "cells": [
  {
   "cell_type": "markdown",
   "metadata": {},
   "source": [
    "Some physical quantities are directly related to other unitful quantities by a constant, but otherwise do not have the same units. To facilitate conversions between these quantities, `yt` implements a system of unit equivalencies (inspired by the [AstroPy implementation](http://docs.astropy.org/en/latest/units/equivalencies.html)). The possible unit equivalencies are:\n",
    "\n",
    "* `\"thermal\"`: conversions between temperature and energy ($E = k_BT$)\n",
    "* `\"spectral\"`: conversions between wavelength, frequency, and energy for photons ($E = h\\nu = hc/\\lambda, c = \\lambda\\nu$)\n",
    "* `\"mass_energy\"`: conversions between mass and energy ($E = mc^2$)\n",
    "* `\"lorentz\"`: conversions between velocity and Lorentz factor ($\\gamma = 1/\\sqrt{1-(v/c)^2}$)\n",
    "* `\"schwarzschild\"`: conversions between mass and Schwarzschild radius ($R_S = 2GM/c^2$)\n",
    "* `\"compton\"`: conversions between mass and Compton wavelength ($\\lambda = h/mc$)\n",
    "\n",
    "The following unit equivalencies only apply under conditions applicable for an ideal gas with a constant mean molecular weight $\\mu$ and ratio of specific heats $\\gamma$:\n",
    "\n",
    "* `\"number_density\"`: conversions between density and number density ($n = \\rho/\\mu{m_p}$)\n",
    "* `\"sound_speed\"`: conversions between temperature and sound speed for an ideal gas ($c_s^2 = \\gamma{k_BT}/\\mu{m_p}$)\n",
    "\n",
    "A `YTArray` or `YTQuantity` can be converted to an equivalent using `to_equivalent`, where the unit and the equivalence name are provided as arguments:"
   ]
  },
  {
   "cell_type": "code",
   "execution_count": null,
   "metadata": {
    "collapsed": false
   },
   "outputs": [],
   "source": [
    "import yt\n",
    "from yt import YTQuantity\n",
    "import numpy as np\n",
    "\n",
    "ds = yt.load('IsolatedGalaxy/galaxy0030/galaxy0030')\n",
    "\n",
    "dd = ds.all_data()\n",
    "\n",
    "print (dd[\"temperature\"].to_equivalent(\"erg\", \"thermal\"))\n",
    "print (dd[\"temperature\"].to_equivalent(\"eV\", \"thermal\"))\n",
    "\n",
    "# Rest energy of the proton\n",
    "from yt.units import mp\n",
    "E_p = mp.to_equivalent(\"GeV\", \"mass_energy\")\n",
    "print (E_p)"
   ]
  },
  {
   "cell_type": "markdown",
   "metadata": {},
   "source": [
    "Most equivalencies can go in both directions, without any information required other than the unit you want to convert to (this is not the case for the electromagnetic equivalencies, which we'll discuss later):"
   ]
  },
  {
   "cell_type": "code",
   "execution_count": null,
   "metadata": {
    "collapsed": false
   },
   "outputs": [],
   "source": [
    "from yt.units import clight\n",
    "v = 0.1*clight\n",
    "g = v.to_equivalent(\"dimensionless\", \"lorentz\")\n",
    "print (g)\n",
    "print (g.to_equivalent(\"c\", \"lorentz\"))"
   ]
  },
  {
   "cell_type": "markdown",
   "metadata": {},
   "source": [
    "### Special Equivalencies"
   ]
  },
  {
   "cell_type": "markdown",
   "metadata": {},
   "source": [
    "Some equivalencies can take supplemental information. The `\"number_density\"` equivalence can take a custom mean molecular weight (default is $\\mu = 0.6$):"
   ]
  },
  {
   "cell_type": "code",
   "execution_count": null,
   "metadata": {
    "collapsed": false
   },
   "outputs": [],
   "source": [
    "print (dd[\"density\"].max())\n",
    "print (dd[\"density\"].to_equivalent(\"cm**-3\", \"number_density\").max())\n",
    "print (dd[\"density\"].to_equivalent(\"cm**-3\", \"number_density\", mu=0.75).max())"
   ]
  },
  {
   "cell_type": "markdown",
   "metadata": {},
   "source": [
    "The `\"sound_speed\"` equivalence optionally takes the ratio of specific heats $\\gamma$ and the mean molecular weight $\\mu$ (defaults are $\\gamma$ = 5/3, $\\mu = 0.6$):"
   ]
  },
  {
   "cell_type": "code",
   "execution_count": null,
   "metadata": {
    "collapsed": false
   },
   "outputs": [],
   "source": [
    "print (dd[\"temperature\"].to_equivalent(\"km/s\", \"sound_speed\").mean())\n",
    "print (dd[\"temperature\"].to_equivalent(\"km/s\", \"sound_speed\", gamma=4./3., mu=0.5).mean())"
   ]
  },
  {
   "cell_type": "markdown",
   "metadata": {},
   "source": [
    "These options must be used with caution, and only if you know the underlying data adheres to these assumptions!"
   ]
  },
  {
   "cell_type": "markdown",
   "metadata": {},
   "source": [
    "### Electromagnetic Equivalencies"
   ]
  },
  {
   "cell_type": "markdown",
   "metadata": {},
   "source": [
    "Special, one-way equivalencies exist for converting between electromagnetic units in the cgs and SI unit systems. These exist since in the cgs system, electromagnetic units are comprised of the base units of seconds, grams and centimeters, whereas in the SI system Ampere is a base unit. For example, the dimensions of charge are completely different in the two systems:"
   ]
  },
  {
   "cell_type": "code",
   "execution_count": null,
   "metadata": {
    "collapsed": false
   },
   "outputs": [],
   "source": [
    "Q1 = YTQuantity(1.0,\"C\")\n",
    "Q2 = YTQuantity(1.0,\"esu\")\n",
    "print (\"Q1 dims =\", Q1.units.dimensions)\n",
    "print (\"Q2 dims =\", Q2.units.dimensions)\n",
    "print (\"Q1 base units =\", Q1.in_mks())\n",
    "print (\"Q2 base units =\", Q2.in_cgs())"
   ]
  },
  {
   "cell_type": "markdown",
   "metadata": {},
   "source": [
    "To convert from a cgs unit to an SI unit, use the \"SI\" equivalency:"
   ]
  },
  {
   "cell_type": "code",
   "execution_count": null,
   "metadata": {
    "collapsed": false
   },
   "outputs": [],
   "source": [
    "from yt.units import qp # the elementary charge in esu\n",
    "qp_SI = qp.to_equivalent(\"C\",\"SI\") # convert to Coulombs\n",
    "print (qp)\n",
    "print (qp_SI)"
   ]
  },
  {
   "cell_type": "markdown",
   "metadata": {},
   "source": [
    "To convert from an SI unit to a cgs unit, use the \"CGS\" equivalency:"
   ]
  },
  {
   "cell_type": "code",
   "execution_count": null,
   "metadata": {
    "collapsed": false
   },
   "outputs": [],
   "source": [
    "B = YTQuantity(1.0,\"T\") # magnetic field in Tesla\n",
    "print (B, B.to_equivalent(\"gauss\",\"CGS\")) # convert to Gauss"
   ]
  },
  {
   "cell_type": "markdown",
   "metadata": {},
   "source": [
    "Equivalencies exist between the SI and cgs dimensions of charge, current, magnetic field, electric potential, and resistance. As a neat example, we can convert current in Amperes and resistance in Ohms to their cgs equivalents, and then use them to calculate the \"Joule heating\" of a conductor with resistance $R$ and current $I$:"
   ]
  },
  {
   "cell_type": "code",
   "execution_count": null,
   "metadata": {
    "collapsed": false
   },
   "outputs": [],
   "source": [
    "I = YTQuantity(1.0,\"A\")\n",
    "I_cgs = I.to_equivalent(\"statA\",\"CGS\")\n",
    "R = YTQuantity(1.0,\"ohm\")\n",
    "R_cgs = R.to_equivalent(\"statohm\",\"CGS\")\n",
    "P = I**2*R\n",
    "P_cgs = I_cgs**2*R_cgs"
   ]
  },
  {
   "cell_type": "markdown",
   "metadata": {},
   "source": [
    "The dimensions of current and resistance in the two systems are completely different, but the formula gives us the power dissipated dimensions of energy per time, so the dimensions and the result should be the same, which we can check:"
   ]
  },
  {
   "cell_type": "code",
   "execution_count": null,
   "metadata": {
    "collapsed": false
   },
   "outputs": [],
   "source": [
    "print (P_cgs.units.dimensions == P.units.dimensions)\n",
    "print (P.in_units(\"W\"), P_cgs.in_units(\"W\"))"
   ]
  },
  {
   "cell_type": "markdown",
   "metadata": {},
   "source": [
    "### Determining Valid Equivalencies"
   ]
  },
  {
   "cell_type": "markdown",
   "metadata": {},
   "source": [
    "If a certain equivalence does not exist for a particular unit, then an error will be thrown:"
   ]
  },
  {
   "cell_type": "code",
   "execution_count": null,
   "metadata": {
    "collapsed": false
   },
   "outputs": [],
   "source": [
    "from yt.utilities.exceptions import YTInvalidUnitEquivalence\n",
    "\n",
    "try:\n",
    "    x = v.to_equivalent(\"angstrom\", \"spectral\")\n",
    "except YTInvalidUnitEquivalence as e:\n",
    "    print (e)"
   ]
  },
  {
   "cell_type": "markdown",
   "metadata": {},
   "source": [
    "You can check if a `YTArray` has a given equivalence with `has_equivalent`:"
   ]
  },
  {
   "cell_type": "code",
   "execution_count": null,
   "metadata": {
    "collapsed": false
   },
   "outputs": [],
   "source": [
    "print (mp.has_equivalent(\"compton\"))\n",
    "print (mp.has_equivalent(\"thermal\"))"
   ]
  },
  {
   "cell_type": "markdown",
   "metadata": {},
   "source": [
    "To list the equivalencies available for a given `YTArray` or `YTQuantity`, use the `list_equivalencies` method:"
   ]
  },
  {
   "cell_type": "code",
   "execution_count": null,
   "metadata": {
    "collapsed": false
   },
   "outputs": [],
   "source": [
    "E_p.list_equivalencies()"
   ]
  }
 ],
 "metadata": {
  "kernelspec": {
   "display_name": "Python 3",
   "language": "python",
   "name": "python3"
  },
  "language_info": {
   "codemirror_mode": {
    "name": "ipython",
    "version": 3
   },
   "file_extension": ".py",
   "mimetype": "text/x-python",
   "name": "python",
   "nbconvert_exporter": "python",
   "pygments_lexer": "ipython3",
   "version": "3.5.1"
  }
 },
 "nbformat": 4,
 "nbformat_minor": 0
}
