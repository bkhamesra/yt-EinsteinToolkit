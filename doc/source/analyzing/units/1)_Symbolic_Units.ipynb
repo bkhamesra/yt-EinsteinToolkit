{
 "cells": [
  {
   "cell_type": "markdown",
   "metadata": {},
   "source": [
    "### Dimensional analysis"
   ]
  },
  {
   "cell_type": "markdown",
   "metadata": {},
   "source": [
    "The fastest way to get into the unit system is to explore the quantities that live in the `yt.units` namespace:"
   ]
  },
  {
   "cell_type": "code",
   "execution_count": null,
   "metadata": {
    "collapsed": false
   },
   "outputs": [],
   "source": [
    "from yt.units import meter, gram, kilogram, second, joule\n",
    "print (kilogram*meter**2/second**2 == joule)\n",
    "print (kilogram*meter**2/second**2)"
   ]
  },
  {
   "cell_type": "code",
   "execution_count": null,
   "metadata": {
    "collapsed": false
   },
   "outputs": [],
   "source": [
    "from yt.units import m, kg, s, W\n",
    "kg*m**2/s**3 == W"
   ]
  },
  {
   "cell_type": "code",
   "execution_count": null,
   "metadata": {
    "collapsed": false
   },
   "outputs": [],
   "source": [
    "from yt.units import kilometer\n",
    "three_kilometers = 3*kilometer\n",
    "print (three_kilometers)"
   ]
  },
  {
   "cell_type": "code",
   "execution_count": null,
   "metadata": {
    "collapsed": false
   },
   "outputs": [],
   "source": [
    "from yt.units import gram, kilogram\n",
    "print (gram+kilogram)\n",
    "\n",
    "print (kilogram+gram)\n",
    "\n",
    "print (kilogram/gram)"
   ]
  },
  {
   "cell_type": "markdown",
   "metadata": {},
   "source": [
    "These unit symbols are all instances of a new class we've added to yt 3.0, `YTQuantity`. `YTQuantity` is useful for storing a single data point."
   ]
  },
  {
   "cell_type": "code",
   "execution_count": null,
   "metadata": {
    "collapsed": false
   },
   "outputs": [],
   "source": [
    "type(kilogram)"
   ]
  },
  {
   "cell_type": "markdown",
   "metadata": {},
   "source": [
    "We also provide `YTArray`, which can store arrays of quantities:"
   ]
  },
  {
   "cell_type": "code",
   "execution_count": null,
   "metadata": {
    "collapsed": false
   },
   "outputs": [],
   "source": [
    "arr = [3,4,5]*kilogram\n",
    "\n",
    "print (arr)\n",
    "\n",
    "print (type(arr))"
   ]
  },
  {
   "cell_type": "markdown",
   "metadata": {},
   "source": [
    "### Creating arrays and quantities"
   ]
  },
  {
   "cell_type": "markdown",
   "metadata": {},
   "source": [
    "Most people will interact with the new unit system using `YTArray` and `YTQuantity`.  These are both subclasses of numpy's fast array type, `ndarray`, and can be used interchangably with other NumPy arrays. These new classes make use of the unit system to append unit metadata to the underlying `ndarray`.  `YTArray` is intended to store array data, while `YTQuantitity` is intended to store scalars in a particular unit system.\n",
    "\n",
    "There are two ways to create arrays and quantities. The first is to explicitly create it by calling the class constructor and supplying a unit string:"
   ]
  },
  {
   "cell_type": "code",
   "execution_count": null,
   "metadata": {
    "collapsed": false
   },
   "outputs": [],
   "source": [
    "from yt.units.yt_array import YTArray\n",
    "\n",
    "sample_array = YTArray([1,2,3], 'g/cm**3')\n",
    "\n",
    "print (sample_array)"
   ]
  },
  {
   "cell_type": "markdown",
   "metadata": {},
   "source": [
    "The unit string can be an arbitrary combination of metric unit names.  Just a few examples:"
   ]
  },
  {
   "cell_type": "code",
   "execution_count": null,
   "metadata": {
    "collapsed": false
   },
   "outputs": [],
   "source": [
    "from yt.units.yt_array import YTQuantity\n",
    "from yt.units import kboltz\n",
    "from numpy.random import random\n",
    "import numpy as np\n",
    "\n",
    "print (\"Length:\")\n",
    "print (YTQuantity(random(), 'm'))\n",
    "print (YTQuantity(random(), 'cm'))\n",
    "print (YTQuantity(random(), 'Mpc'))\n",
    "print (YTQuantity(random(), 'AU'))\n",
    "print ('')\n",
    "\n",
    "print (\"Time:\")\n",
    "print (YTQuantity(random(), 's'))\n",
    "print (YTQuantity(random(), 'min'))\n",
    "print (YTQuantity(random(), 'hr'))\n",
    "print (YTQuantity(random(), 'day'))\n",
    "print (YTQuantity(random(), 'yr'))\n",
    "print ('')\n",
    "\n",
    "print (\"Mass:\")\n",
    "print (YTQuantity(random(), 'g'))\n",
    "print (YTQuantity(random(), 'kg'))\n",
    "print (YTQuantity(random(), 'Msun'))\n",
    "print ('')\n",
    "\n",
    "print (\"Energy:\")\n",
    "print (YTQuantity(random(), 'erg'))\n",
    "print (YTQuantity(random(), 'g*cm**2/s**2'))\n",
    "print (YTQuantity(random(), 'eV'))\n",
    "print (YTQuantity(random(), 'J'))\n",
    "print ('')\n",
    "\n",
    "print (\"Temperature:\")\n",
    "print (YTQuantity(random(), 'K'))\n",
    "print ((YTQuantity(random(), 'eV')/kboltz).in_cgs())"
   ]
  },
  {
   "cell_type": "markdown",
   "metadata": {},
   "source": [
    "Dimensional arrays and quantities can also be created by multiplication with another array or quantity:"
   ]
  },
  {
   "cell_type": "code",
   "execution_count": null,
   "metadata": {
    "collapsed": false
   },
   "outputs": [],
   "source": [
    "from yt.units import kilometer\n",
    "print (kilometer)"
   ]
  },
  {
   "cell_type": "code",
   "execution_count": null,
   "metadata": {
    "collapsed": false
   },
   "outputs": [],
   "source": [
    "three_kilometers = 3*kilometer\n",
    "print (three_kilometers)"
   ]
  },
  {
   "cell_type": "markdown",
   "metadata": {},
   "source": [
    "When working with a YTArray with complicated units, you can use `unit_array` and `unit_quantity` to conveniently apply units to data:"
   ]
  },
  {
   "cell_type": "code",
   "execution_count": null,
   "metadata": {
    "collapsed": false
   },
   "outputs": [],
   "source": [
    "test_array = YTArray(np.random.random(20), 'erg/s')\n",
    "\n",
    "print (test_array)"
   ]
  },
  {
   "cell_type": "markdown",
   "metadata": {},
   "source": [
    "`unit_quantity` returns a `YTQuantity` with a value of 1.0 and the same units as the array it is a attached to."
   ]
  },
  {
   "cell_type": "code",
   "execution_count": null,
   "metadata": {
    "collapsed": false
   },
   "outputs": [],
   "source": [
    "print (test_array.unit_quantity)"
   ]
  },
  {
   "cell_type": "markdown",
   "metadata": {},
   "source": [
    "`unit_array` returns a `YTArray` with the same units and shape as the array it is a attached to and with all values set to 1.0."
   ]
  },
  {
   "cell_type": "code",
   "execution_count": null,
   "metadata": {
    "collapsed": false
   },
   "outputs": [],
   "source": [
    "print (test_array.unit_array)"
   ]
  },
  {
   "cell_type": "markdown",
   "metadata": {},
   "source": [
    "These are useful when doing arithmetic:"
   ]
  },
  {
   "cell_type": "code",
   "execution_count": null,
   "metadata": {
    "collapsed": false
   },
   "outputs": [],
   "source": [
    "print (test_array + 1.0*test_array.unit_quantity)"
   ]
  },
  {
   "cell_type": "code",
   "execution_count": null,
   "metadata": {
    "collapsed": false
   },
   "outputs": [],
   "source": [
    "print (test_array + np.arange(20)*test_array.unit_array)"
   ]
  },
  {
   "cell_type": "markdown",
   "metadata": {},
   "source": [
    "For convenience, `unit_quantity` is also available via `uq` and `unit_array` is available via `ua`.  You can use these arrays to create dummy arrays with the same units as another array - this is sometimes easier than manually creating a new array or quantity."
   ]
  },
  {
   "cell_type": "code",
   "execution_count": null,
   "metadata": {
    "collapsed": false
   },
   "outputs": [],
   "source": [
    "print (test_array.uq)\n",
    "\n",
    "print (test_array.unit_quantity == test_array.uq)"
   ]
  },
  {
   "cell_type": "code",
   "execution_count": null,
   "metadata": {
    "collapsed": false
   },
   "outputs": [],
   "source": [
    "from numpy import array_equal\n",
    "\n",
    "print (test_array.ua)\n",
    "\n",
    "print (array_equal(test_array.ua, test_array.unit_array))"
   ]
  },
  {
   "cell_type": "markdown",
   "metadata": {},
   "source": [
    "Unit metadata is encoded in the `units` attribute that hangs off of `YTArray` or `YTQuantity` instances:"
   ]
  },
  {
   "cell_type": "code",
   "execution_count": null,
   "metadata": {
    "collapsed": false
   },
   "outputs": [],
   "source": [
    "from yt.units import kilometer, erg\n",
    "\n",
    "print (\"kilometer's units:\", kilometer.units)\n",
    "print (\"kilometer's dimensions:\", kilometer.units.dimensions)\n",
    "\n",
    "print ('')\n",
    "\n",
    "print (\"erg's units:\", erg.units)\n",
    "print (\"erg's dimensions: \", erg.units.dimensions)"
   ]
  },
  {
   "cell_type": "markdown",
   "metadata": {},
   "source": [
    "### Arithmetic with `YTQuantity` and `YTArray`"
   ]
  },
  {
   "cell_type": "markdown",
   "metadata": {},
   "source": [
    "Of course it wouldn't be very useful if all we could do is create data with units.  The real power of the new unit system is that we can add, subtract, mutliply, and divide using quantities and dimensional arrays:"
   ]
  },
  {
   "cell_type": "code",
   "execution_count": null,
   "metadata": {
    "collapsed": false
   },
   "outputs": [],
   "source": [
    "a = YTQuantity(3, 'cm')\n",
    "b = YTQuantity(3, 'm')\n",
    "\n",
    "print (a+b)\n",
    "print (b+a)\n",
    "print ('')\n",
    "\n",
    "print ((a+b).in_units('ft'))"
   ]
  },
  {
   "cell_type": "code",
   "execution_count": null,
   "metadata": {
    "collapsed": false
   },
   "outputs": [],
   "source": [
    "a = YTQuantity(42, 'mm')\n",
    "b = YTQuantity(1, 's')\n",
    "\n",
    "print (a/b)\n",
    "print ((a/b).in_cgs())\n",
    "print ((a/b).in_mks())\n",
    "print ((a/b).in_units('km/s'))\n",
    "print ('')\n",
    "\n",
    "print (a*b)\n",
    "print ((a*b).in_cgs())\n",
    "print ((a*b).in_mks())"
   ]
  },
  {
   "cell_type": "code",
   "execution_count": null,
   "metadata": {
    "collapsed": false
   },
   "outputs": [],
   "source": [
    "m = YTQuantity(35, 'g')\n",
    "a = YTQuantity(9.8, 'm/s**2')\n",
    "\n",
    "print (m*a)\n",
    "print ((m*a).in_units('dyne'))"
   ]
  },
  {
   "cell_type": "code",
   "execution_count": null,
   "metadata": {
    "collapsed": false
   },
   "outputs": [],
   "source": [
    "from yt.units import G, kboltz\n",
    "\n",
    "print (\"Newton's constant: \", G)\n",
    "print (\"Newton's constant in MKS: \", G.in_mks(), \"\\n\")\n",
    "\n",
    "print (\"Boltzmann constant: \", kboltz)\n",
    "print (\"Boltzmann constant in MKS: \", kboltz.in_mks())"
   ]
  },
  {
   "cell_type": "code",
   "execution_count": null,
   "metadata": {
    "collapsed": false
   },
   "outputs": [],
   "source": [
    "rho = YTQuantity(1, 'g/cm**3')\n",
    "t_ff = (G*rho)**(-0.5)\n",
    "\n",
    "print (t_ff)"
   ]
  },
  {
   "cell_type": "markdown",
   "metadata": {},
   "source": [
    "An exception is raised if we try to do a unit operation that doesn't make any sense:"
   ]
  },
  {
   "cell_type": "code",
   "execution_count": null,
   "metadata": {
    "collapsed": false
   },
   "outputs": [],
   "source": [
    "from yt.utilities.exceptions import YTUnitOperationError\n",
    "\n",
    "a = YTQuantity(3, 'm')\n",
    "b = YTQuantity(5, 'erg')\n",
    "\n",
    "try:\n",
    "    print (a+b)\n",
    "except YTUnitOperationError as e:\n",
    "    print (e)"
   ]
  },
  {
   "cell_type": "markdown",
   "metadata": {},
   "source": [
    "A plain `ndarray` or a `YTArray` created with empty units is treated as a dimensionless quantity and can be used in situations where unit consistency allows it to be used: "
   ]
  },
  {
   "cell_type": "code",
   "execution_count": null,
   "metadata": {
    "collapsed": false
   },
   "outputs": [],
   "source": [
    "a = YTArray([1.,2.,3.], 'm')\n",
    "b = np.array([2.,2.,2.])\n",
    "\n",
    "print (\"a:   \", a)\n",
    "print (\"b:   \", b)\n",
    "print (\"a*b: \", a*b)"
   ]
  },
  {
   "cell_type": "code",
   "execution_count": null,
   "metadata": {
    "collapsed": false
   },
   "outputs": [],
   "source": [
    "c = YTArray([2,2,2])\n",
    "\n",
    "print (\"c:    \", c)\n",
    "print (\"a*c:  \", a*c)"
   ]
  },
  {
   "cell_type": "markdown",
   "metadata": {},
   "source": [
    "### Saving and Loading `YTArray`s to/from disk"
   ]
  },
  {
   "cell_type": "markdown",
   "metadata": {},
   "source": [
    "`YTArray`s can be written to disk, to be loaded again to be used in yt or in a different context later. There are two formats that can be written to/read from: HDF5 and ASCII.  "
   ]
  },
  {
   "cell_type": "markdown",
   "metadata": {},
   "source": [
    "#### HDF5"
   ]
  },
  {
   "cell_type": "markdown",
   "metadata": {},
   "source": [
    "To write to HDF5, use `write_hdf5`:"
   ]
  },
  {
   "cell_type": "code",
   "execution_count": null,
   "metadata": {
    "collapsed": false
   },
   "outputs": [],
   "source": [
    "my_dens = YTArray(np.random.random(10), 'Msun/kpc**3')\n",
    "my_temp = YTArray(np.random.random(10), 'K')\n",
    "my_dens.write_hdf5(\"my_data.h5\", dataset_name=\"density\")\n",
    "my_temp.write_hdf5(\"my_data.h5\", dataset_name=\"temperature\")"
   ]
  },
  {
   "cell_type": "markdown",
   "metadata": {},
   "source": [
    "Where we used the `dataset_name` keyword argument to create a separate dataset for each array in the same file.\n",
    "\n",
    "We can use the `from_hdf5` classmethod to read the data back in:"
   ]
  },
  {
   "cell_type": "code",
   "execution_count": null,
   "metadata": {
    "collapsed": false
   },
   "outputs": [],
   "source": [
    "read_dens = YTArray.from_hdf5(\"my_data.h5\", dataset_name=\"density\")\n",
    "print (read_dens)\n",
    "print (my_dens)"
   ]
  },
  {
   "cell_type": "markdown",
   "metadata": {},
   "source": [
    "We can use the `info` keyword argument to `write_hdf5` to write some additional data to the file, which will be stored as attributes of the dataset:"
   ]
  },
  {
   "cell_type": "code",
   "execution_count": null,
   "metadata": {
    "collapsed": false
   },
   "outputs": [],
   "source": [
    "my_vels = YTArray(np.random.normal(10), 'km/s')\n",
    "info = {\"source\":\"galaxy cluster\",\"user\":\"jzuhone\"}\n",
    "my_vels.write_hdf5(\"my_data.h5\", dataset_name=\"velocity\", info=info)"
   ]
  },
  {
   "cell_type": "markdown",
   "metadata": {},
   "source": [
    "If you want to read/write a dataset from/to a specific group within the HDF5 file, use the `group_name` keyword:"
   ]
  },
  {
   "cell_type": "code",
   "execution_count": null,
   "metadata": {
    "collapsed": false
   },
   "outputs": [],
   "source": [
    "my_vels.write_hdf5(\"data_in_group.h5\", dataset_name=\"velocity\", info=info, group_name=\"/data/fields\")"
   ]
  },
  {
   "cell_type": "markdown",
   "metadata": {},
   "source": [
    "where we have used the standard HDF5 slash notation for writing a group hierarchy (e.g., group within a group):"
   ]
  },
  {
   "cell_type": "markdown",
   "metadata": {},
   "source": [
    "#### ASCII"
   ]
  },
  {
   "cell_type": "markdown",
   "metadata": {},
   "source": [
    "To write one or more `YTArray`s to an ASCII text file, use `yt.savetxt`, which works a lot like NumPy's `savetxt`, except with units:"
   ]
  },
  {
   "cell_type": "code",
   "execution_count": null,
   "metadata": {
    "collapsed": false
   },
   "outputs": [],
   "source": [
    "import yt\n",
    "a = YTArray(np.random.random(size=10), \"cm\")\n",
    "b = YTArray(np.random.random(size=10), \"g\")\n",
    "c = YTArray(np.random.random(size=10), \"s\")\n",
    "yt.savetxt(\"my_data.dat\", [a,b,c], header='My cool data', footer='Data is over', delimiter=\"\\t\")"
   ]
  },
  {
   "cell_type": "markdown",
   "metadata": {},
   "source": [
    "The file we wrote can then be easily used in other contexts, such as plotting in Gnuplot, or loading into a spreadsheet, or just for causal examination. We can quickly check it here:"
   ]
  },
  {
   "cell_type": "code",
   "execution_count": null,
   "metadata": {
    "collapsed": false
   },
   "outputs": [],
   "source": [
    "%%bash \n",
    "more my_data.dat"
   ]
  },
  {
   "cell_type": "markdown",
   "metadata": {},
   "source": [
    "You can see that the header comes first, and then right before the data we have a subheader marking the units of each column. The footer comes after the data. "
   ]
  },
  {
   "cell_type": "markdown",
   "metadata": {},
   "source": [
    "`yt.loadtxt` can be used to read the same data with units back in, or read data that has been generated from some other source. Just make sure it's in the format above. `loadtxt` can also selectively read from particular columns in the file with the `usecols` keyword argument:"
   ]
  },
  {
   "cell_type": "code",
   "execution_count": null,
   "metadata": {
    "collapsed": false
   },
   "outputs": [],
   "source": [
    "bb, cc = yt.loadtxt(\"my_data.dat\", usecols=(1,2), delimiter=\"\\t\")\n",
    "print (bb)\n",
    "print (b)\n",
    "print ('')\n",
    "print (cc)\n",
    "print (c)"
   ]
  }
 ],
 "metadata": {
  "kernelspec": {
   "display_name": "Python 3",
   "language": "python",
   "name": "python3"
  },
  "language_info": {
   "codemirror_mode": {
    "name": "ipython",
    "version": 3
   },
   "file_extension": ".py",
   "mimetype": "text/x-python",
   "name": "python",
   "nbconvert_exporter": "python",
   "pygments_lexer": "ipython3",
   "version": "3.5.1"
  }
 },
 "nbformat": 4,
 "nbformat_minor": 0
}
