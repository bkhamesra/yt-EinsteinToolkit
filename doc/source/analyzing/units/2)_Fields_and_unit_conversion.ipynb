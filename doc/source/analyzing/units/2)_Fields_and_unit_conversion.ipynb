{
 "cells": [
  {
   "cell_type": "markdown",
   "metadata": {},
   "source": [
    "In the past, querying a data object with a field name returned a NumPy `ndarray` . In the new unit system, data object queries will return a `YTArray`, a subclass of `ndarray` that preserves all of the nice properties of `ndarray`, including broadcasting, deep and shallow copies, and views. "
   ]
  },
  {
   "cell_type": "markdown",
   "metadata": {},
   "source": [
    "### Selecting data from an object"
   ]
  },
  {
   "cell_type": "markdown",
   "metadata": {},
   "source": [
    "`YTArray` is 'unit-aware'.  Let's show how this works in practice using a sample Enzo dataset:"
   ]
  },
  {
   "cell_type": "code",
   "execution_count": null,
   "metadata": {},
   "outputs": [],
   "source": [
    "import yt\n",
    "ds = yt.load('IsolatedGalaxy/galaxy0030/galaxy0030')\n",
    "\n",
    "dd = ds.all_data()\n",
    "maxval, maxloc = ds.find_max('density')\n",
    "\n",
    "dens = dd['density']"
   ]
  },
  {
   "cell_type": "code",
   "execution_count": null,
   "metadata": {},
   "outputs": [],
   "source": [
    "print (maxval)"
   ]
  },
  {
   "cell_type": "code",
   "execution_count": null,
   "metadata": {},
   "outputs": [],
   "source": [
    "print (dens)"
   ]
  },
  {
   "cell_type": "code",
   "execution_count": null,
   "metadata": {},
   "outputs": [],
   "source": [
    "mass = dd['cell_mass']\n",
    "\n",
    "print (\"Cell Masses in CGS: \\n\", mass, \"\\n\")\n",
    "print (\"Cell Masses in MKS: \\n\", mass.in_mks(), \"\\n\")\n",
    "print (\"Cell Masses in Solar Masses: \\n\", mass.in_units('Msun'), \"\\n\")\n",
    "print (\"Cell Masses in code units: \\n\", mass.in_units('code_mass'), \"\\n\")"
   ]
  },
  {
   "cell_type": "code",
   "execution_count": null,
   "metadata": {},
   "outputs": [],
   "source": [
    "dx = dd['dx']\n",
    "print (\"Cell dx in code units: \\n\", dx, \"\\n\")\n",
    "print (\"Cell dx in centimeters: \\n\", dx.in_cgs(), \"\\n\")\n",
    "print (\"Cell dx in meters: \\n\", dx.in_units('m'), \"\\n\")\n",
    "print (\"Cell dx in megaparsecs: \\n\", dx.in_units('Mpc'), \"\\n\")"
   ]
  },
  {
   "cell_type": "markdown",
   "metadata": {},
   "source": [
    "### Unit conversions"
   ]
  },
  {
   "cell_type": "markdown",
   "metadata": {},
   "source": [
    "YTArray defines several user-visible member functions that allow data to be converted from one unit system to another:\n",
    "\n",
    "* `in_units`\n",
    "* `in_cgs`\n",
    "* `in_mks`\n",
    "* `in_base`\n",
    "* `convert_to_units`\n",
    "* `convert_to_cgs`\n",
    "* `convert_to_mks`\n",
    "* `convert_to_base`"
   ]
  },
  {
   "cell_type": "markdown",
   "metadata": {},
   "source": [
    "The first method, `in_units`, returns a copy of the array in the units denoted by a string argument:"
   ]
  },
  {
   "cell_type": "code",
   "execution_count": null,
   "metadata": {},
   "outputs": [],
   "source": [
    "print (dd['density'].in_units('Msun/pc**3'))"
   ]
  },
  {
   "cell_type": "markdown",
   "metadata": {},
   "source": [
    "`in_cgs` and `in_mks` return a copy of the array converted to CGS and MKS units, respectively:"
   ]
  },
  {
   "cell_type": "code",
   "execution_count": null,
   "metadata": {},
   "outputs": [],
   "source": [
    "print (dd['pressure'])\n",
    "print (dd['pressure'].in_cgs())\n",
    "print (dd['pressure'].in_mks())"
   ]
  },
  {
   "cell_type": "markdown",
   "metadata": {},
   "source": [
    "`in_cgs` and `in_mks` are just special cases of the more general `in_base`, which can convert a `YTArray` to a number of different unit systems:"
   ]
  },
  {
   "cell_type": "code",
   "execution_count": null,
   "metadata": {},
   "outputs": [],
   "source": [
    "print (dd['pressure'].in_base('imperial')) # Imperial/English base units\n",
    "print (dd['pressure'].in_base('galactic')) # Base units of kpc, Msun, Myr\n",
    "print (dd['pressure'].in_base('planck')) # Base units in the Planck system\n",
    "print (dd['pressure'].in_base()) # defaults to cgs if no argument given"
   ]
  },
  {
   "cell_type": "markdown",
   "metadata": {},
   "source": [
    "`in_base` can even take a dataset as the argument to convert the `YTArray` into the base units of the dataset:"
   ]
  },
  {
   "cell_type": "code",
   "execution_count": null,
   "metadata": {},
   "outputs": [],
   "source": [
    "print (dd['pressure'].in_base(ds)) # The IsolatedGalaxy dataset from above"
   ]
  },
  {
   "cell_type": "markdown",
   "metadata": {},
   "source": [
    "yt defines a number of unit systems, and new unit systems may be added by the user, which can also be passed to `in_base`. To learn more about the unit systems, how to use them with datasets and other objects, and how to add new ones, see [Unit Systems](unit_systems.html)."
   ]
  },
  {
   "cell_type": "markdown",
   "metadata": {},
   "source": [
    "The rest of the methods do in-place conversions:"
   ]
  },
  {
   "cell_type": "code",
   "execution_count": null,
   "metadata": {},
   "outputs": [],
   "source": [
    "dens = dd['density']\n",
    "print (dens)\n",
    "\n",
    "dens.convert_to_units('Msun/pc**3')\n",
    "print (dens)"
   ]
  },
  {
   "cell_type": "markdown",
   "metadata": {},
   "source": [
    "One possibly confusing wrinkle when using in-place conversions is if you try to query `dd['density']` again, you'll find that it has been converted to solar masses per cubic parsec:"
   ]
  },
  {
   "cell_type": "code",
   "execution_count": null,
   "metadata": {},
   "outputs": [],
   "source": [
    "print (dd['density'])\n",
    "\n",
    "dens.convert_to_units('g/cm**3')\n",
    "\n",
    "print (dens)"
   ]
  },
  {
   "cell_type": "markdown",
   "metadata": {},
   "source": [
    "Since the unit metadata is preserved and the array values are still correct in the new unit system, all numerical operations will still be correct.\n",
    "\n",
    "One of the nicest aspects of this new unit system is that the symbolic algebra for mathematical operations on data with units is performed automatically by sympy.  This example shows how we can construct a field with density units from two other fields that have units of mass and volume:"
   ]
  },
  {
   "cell_type": "code",
   "execution_count": null,
   "metadata": {},
   "outputs": [],
   "source": [
    "print (dd['cell_mass'])\n",
    "print (dd['cell_volume'].in_units('cm**3'))\n",
    "\n",
    "print ((dd['cell_mass']/dd['cell_volume']).in_cgs())"
   ]
  },
  {
   "cell_type": "markdown",
   "metadata": {},
   "source": [
    "### Electrostatic/Electromagnetic Units"
   ]
  },
  {
   "cell_type": "markdown",
   "metadata": {},
   "source": [
    "Electromagnetic units can be a bit tricky, because the units for such quantities in different unit systems can have entirely different dimensions, even if they are meant to represent the same physical quantities. For example, in the SI system of units, current in Amperes is a fundamental unit of measure, so the unit of charge \"coulomb\" is equal to one ampere-second. On the other hand, in the Gaussian/CGS system, there is no equivalent base electromagnetic unit, and the electrostatic charge unit \"esu\" is equal to one $\\mathrm{cm^{3/2}g^{-1/2}s^{-1}}$ (which does not have any apparent physical significance). `yt` recognizes this difference:"
   ]
  },
  {
   "cell_type": "code",
   "execution_count": null,
   "metadata": {},
   "outputs": [],
   "source": [
    "q1 = yt.YTArray(1.0,\"C\") # coulombs\n",
    "q2 = yt.YTArray(1.0,\"esu\") # electrostatic units / statcoulomb\n",
    "\n",
    "print (\"units =\", q1.in_mks().units, \", dims =\", q1.units.dimensions)\n",
    "print (\"units =\", q2.in_cgs().units, \", dims =\", q2.units.dimensions)"
   ]
  },
  {
   "cell_type": "code",
   "execution_count": null,
   "metadata": {},
   "outputs": [],
   "source": [
    "B1 = yt.YTArray(1.0,\"T\") # tesla\n",
    "B2 = yt.YTArray(1.0,\"gauss\") # gauss\n",
    "\n",
    "print (\"units =\", B1.in_mks().units, \", dims =\", B1.units.dimensions)\n",
    "print (\"units =\", B2.in_cgs().units, \", dims =\", B2.units.dimensions)"
   ]
  },
  {
   "cell_type": "markdown",
   "metadata": {},
   "source": [
    "To convert between these two systems, use [Unit Equivalencies](unit_equivalencies.html)."
   ]
  },
  {
   "cell_type": "markdown",
   "metadata": {},
   "source": [
    "### Working with views and converting to ndarray"
   ]
  },
  {
   "cell_type": "markdown",
   "metadata": {},
   "source": [
    "There are two ways to convert the data into a numpy array.  The most straightforward and safe way to do this is to create a copy of the array data.  The following cell demonstrates four equivalent ways of doing this, in increasing degree of terseness."
   ]
  },
  {
   "cell_type": "code",
   "execution_count": null,
   "metadata": {},
   "outputs": [],
   "source": [
    "import numpy as np\n",
    "\n",
    "dens = dd['cell_mass']\n",
    "\n",
    "print (dens.to_ndarray())\n",
    "print (np.array(dens))\n",
    "print (dens.value)\n",
    "print (dens.v)"
   ]
  },
  {
   "cell_type": "markdown",
   "metadata": {},
   "source": [
    "Since we have a copy of the data, we can mess with it however we wish without disturbing the original data returned by the yt data object."
   ]
  },
  {
   "cell_type": "markdown",
   "metadata": {},
   "source": [
    "Another way to touch the raw array data is to get a _view_.  A numpy view is a lightweight array interface to a memory buffer. There are four ways to create views of YTArray instances:"
   ]
  },
  {
   "cell_type": "code",
   "execution_count": null,
   "metadata": {},
   "outputs": [],
   "source": [
    "print (dd['cell_mass'].ndarray_view())\n",
    "print (dd['cell_mass'].view(np.ndarray))\n",
    "print (dd['cell_mass'].ndview)\n",
    "print (dd['cell_mass'].d)"
   ]
  },
  {
   "cell_type": "markdown",
   "metadata": {},
   "source": [
    "When working with views, rememeber that you are touching the raw array data and no longer have any of the unit checking provided by the unit system.  This can be useful where it might be more straightforward to treat the array as if it didn't have units but without copying the data."
   ]
  },
  {
   "cell_type": "code",
   "execution_count": null,
   "metadata": {},
   "outputs": [],
   "source": [
    "density_values = dd['density'].d\n",
    "density_values[0:10] = 0\n",
    "\n",
    "# The original array was updated\n",
    "print (dd['density'])"
   ]
  },
  {
   "cell_type": "markdown",
   "metadata": {},
   "source": [
    "### Round-Trip Conversions to and from Other Unit Systems"
   ]
  },
  {
   "cell_type": "markdown",
   "metadata": {},
   "source": [
    "Finally, a `YTArray` or `YTQuantity` may be converted to an [AstroPy quantity](http://astropy.readthedocs.org/en/latest/units/), which is a NumPy array or a scalar associated with units from AstroPy's units system. You may use this facility if you have AstroPy installed. "
   ]
  },
  {
   "cell_type": "markdown",
   "metadata": {},
   "source": [
    "Some examples of converting from AstroPy units to yt:"
   ]
  },
  {
   "cell_type": "code",
   "execution_count": null,
   "metadata": {},
   "outputs": [],
   "source": [
    "from astropy import units as u\n",
    "\n",
    "x = 42.0 * u.meter\n",
    "y = yt.YTQuantity.from_astropy(x)"
   ]
  },
  {
   "cell_type": "code",
   "execution_count": null,
   "metadata": {},
   "outputs": [],
   "source": [
    "print (x, type(x))\n",
    "print (y, type(y))"
   ]
  },
  {
   "cell_type": "code",
   "execution_count": null,
   "metadata": {},
   "outputs": [],
   "source": [
    "a = np.random.random(size=10) * u.km/u.s\n",
    "b = yt.YTArray.from_astropy(a)"
   ]
  },
  {
   "cell_type": "code",
   "execution_count": null,
   "metadata": {},
   "outputs": [],
   "source": [
    "print (a, type(a))\n",
    "print (b, type(b))"
   ]
  },
  {
   "cell_type": "markdown",
   "metadata": {},
   "source": [
    "It also works the other way around, converting a `YTArray` or `YTQuantity` to an AstroPy quantity via the method `to_astropy`. For arrays:"
   ]
  },
  {
   "cell_type": "code",
   "execution_count": null,
   "metadata": {},
   "outputs": [],
   "source": [
    "temp = dd[\"temperature\"]\n",
    "atemp = temp.to_astropy()"
   ]
  },
  {
   "cell_type": "code",
   "execution_count": null,
   "metadata": {},
   "outputs": [],
   "source": [
    "print (temp, type(temp))\n",
    "print (atemp, type(atemp))"
   ]
  },
  {
   "cell_type": "markdown",
   "metadata": {},
   "source": [
    "and quantities:"
   ]
  },
  {
   "cell_type": "code",
   "execution_count": null,
   "metadata": {},
   "outputs": [],
   "source": [
    "from yt.units import kboltz\n",
    "kb = kboltz.to_astropy()"
   ]
  },
  {
   "cell_type": "code",
   "execution_count": null,
   "metadata": {},
   "outputs": [],
   "source": [
    "print (kboltz, type(kboltz))\n",
    "print (kb, type(kb))"
   ]
  },
  {
   "cell_type": "markdown",
   "metadata": {},
   "source": [
    "As a sanity check, you can show that it works round-trip:"
   ]
  },
  {
   "cell_type": "code",
   "execution_count": null,
   "metadata": {},
   "outputs": [],
   "source": [
    "k1 = kboltz.to_astropy()\n",
    "k2 = yt.YTQuantity.from_astropy(kb)\n",
    "print (k1 == k2)"
   ]
  },
  {
   "cell_type": "code",
   "execution_count": null,
   "metadata": {},
   "outputs": [],
   "source": [
    "c = yt.YTArray.from_astropy(a)\n",
    "d = c.to_astropy()\n",
    "print (a == d)"
   ]
  },
  {
   "cell_type": "markdown",
   "metadata": {},
   "source": [
    "We can also do the same thing with unitful quantities from the [Pint package](http://pint.readthedocs.org), using essentially the same procedure:"
   ]
  },
  {
   "cell_type": "code",
   "execution_count": null,
   "metadata": {},
   "outputs": [],
   "source": [
    "from pint import UnitRegistry\n",
    "ureg = UnitRegistry()\n",
    "v = 1000.*ureg.km/ureg.s\n",
    "w = yt.YTQuantity.from_pint(v)"
   ]
  },
  {
   "cell_type": "code",
   "execution_count": null,
   "metadata": {},
   "outputs": [],
   "source": [
    "print (v, type(v))\n",
    "print (w, type(w))"
   ]
  },
  {
   "cell_type": "code",
   "execution_count": null,
   "metadata": {},
   "outputs": [],
   "source": [
    "ptemp = temp.to_pint()"
   ]
  },
  {
   "cell_type": "code",
   "execution_count": null,
   "metadata": {},
   "outputs": [],
   "source": [
    "print (temp, type(temp))\n",
    "print (ptemp, type(ptemp))"
   ]
  }
 ],
 "metadata": {
  "kernelspec": {
   "display_name": "Python 3",
   "language": "python",
   "name": "python3"
  },
  "language_info": {
   "codemirror_mode": {
    "name": "ipython",
    "version": 3.0
   },
   "file_extension": ".py",
   "mimetype": "text/x-python",
   "name": "python",
   "nbconvert_exporter": "python",
   "pygments_lexer": "ipython3",
   "version": "3.5.1"
  }
 },
 "nbformat": 4,
 "nbformat_minor": 0
}