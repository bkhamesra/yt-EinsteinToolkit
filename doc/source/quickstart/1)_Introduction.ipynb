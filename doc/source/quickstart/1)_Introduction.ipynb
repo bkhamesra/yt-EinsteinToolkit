{
 "cells": [
  {
   "cell_type": "markdown",
   "metadata": {},
   "source": [
    "# Welcome to the yt quickstart!\n",
    "\n",
    "In this brief tutorial, we'll go over how to load up data, analyze things, inspect your data, and make some visualizations.\n",
    "\n",
    "Our documentation page can provide information on a variety of the commands that are used here, both in narrative documentation as well as recipes for specific functionality in our cookbook.  The documentation exists at http://yt-project.org/doc/.  If you encounter problems, look for help here: http://yt-project.org/doc/help/index.html.\n",
    "\n",
    "## Acquiring the datasets for this tutorial\n",
    "\n",
    "If you are executing these tutorials interactively, you need some sample datasets on which to run the code.  You can download these datasets at http://yt-project.org/data/.  The datasets necessary for each lesson are noted next to the corresponding tutorial.\n",
    "\n",
    "## What's Next?\n",
    "\n",
    "The Notebooks are meant to be explored in this order:\n",
    "\n",
    "1. Introduction\n",
    "2. Data Inspection (IsolatedGalaxy dataset)\n",
    "3. Simple Visualization (enzo_tiny_cosmology & Enzo_64 datasets)\n",
    "4. Data Objects and Time Series (IsolatedGalaxy dataset)\n",
    "5. Derived Fields and Profiles (IsolatedGalaxy dataset)\n",
    "6. Volume Rendering (IsolatedGalaxy dataset)"
   ]
  },
  {
   "cell_type": "markdown",
   "metadata": {},
   "source": [
    "The following code will download the data needed for this tutorial automatically using `curl`. It may take some time so please wait when the kernel is busy. You will need to set `download_datasets` to True before using it."
   ]
  },
  {
   "cell_type": "code",
   "execution_count": null,
   "metadata": {
    "collapsed": false
   },
   "outputs": [],
   "source": [
    "download_datasets = False\n",
    "if download_datasets:\n",
    "    !curl -sSO http://yt-project.org/data/enzo_tiny_cosmology.tar.gz\n",
    "    print (\"Got enzo_tiny_cosmology\")\n",
    "    !tar xzf enzo_tiny_cosmology.tar.gz\n",
    "    \n",
    "    !curl -sSO http://yt-project.org/data/Enzo_64.tar.gz\n",
    "    print (\"Got Enzo_64\")\n",
    "    !tar xzf Enzo_64.tar.gz\n",
    "    \n",
    "    !curl -sSO http://yt-project.org/data/IsolatedGalaxy.tar.gz\n",
    "    print (\"Got IsolatedGalaxy\")\n",
    "    !tar xzf IsolatedGalaxy.tar.gz\n",
    "    \n",
    "    print (\"All done!\")"
   ]
  }
 ],
 "metadata": {
  "kernelspec": {
   "display_name": "Python 3",
   "language": "python",
   "name": "python3"
  },
  "language_info": {
   "codemirror_mode": {
    "name": "ipython",
    "version": 3
   },
   "file_extension": ".py",
   "mimetype": "text/x-python",
   "name": "python",
   "nbconvert_exporter": "python",
   "pygments_lexer": "ipython3",
   "version": "3.4.3"
  }
 },
 "nbformat": 4,
 "nbformat_minor": 0
}
